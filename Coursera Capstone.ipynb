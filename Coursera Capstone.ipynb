{
    "cells": [
        {
            "cell_type": "markdown",
            "metadata": {
                "collapsed": true
            },
            "source": "# <center>Best location to open a gym in Toronto<center>"
        },
        {
            "cell_type": "markdown",
            "metadata": {},
            "source": "## 1. Introduction"
        },
        {
            "cell_type": "markdown",
            "metadata": {},
            "source": "### 1.1 Background"
        },
        {
            "cell_type": "markdown",
            "metadata": {},
            "source": "People in these day and age incorporate fitness into their lifestyle. thus, we can see the surge of gyms and fitness that answer to these demands. but opening a gym or other business is a tough decision, it involves making many difficult decisions such as: Who is our targeted customers, How much should be cost for the gym membership cost? Are there any competitions in the region? And one of the most important question that needs thorough answer would be what is the best location for customers to come and excercise and in turn will optimize the profitability."
        },
        {
            "cell_type": "markdown",
            "metadata": {},
            "source": "### 1.2 Business Problem"
        },
        {
            "cell_type": "markdown",
            "metadata": {},
            "source": "Imagine a client that want to open a gym in Toronto and want our service to help find the optimum location that will benefit the business in the long run. which location in Toronto is the optimum point of interest? we first need to think about the factors that contribute to this. it would be based on income, competition and desity of people in the neighborhood can also play an important factor as well. so, to solve these problem, we will mainly use Foursquare API to get the venues location, Neighborhoods in Toronto from Wikipedia and census data from Toronto\u2019s Open Data Portal."
        },
        {
            "cell_type": "markdown",
            "metadata": {},
            "source": "### 1.3 Interest "
        },
        {
            "cell_type": "markdown",
            "metadata": {},
            "source": "The targeted audiences of this project would be the business people who want to open a new gym or expand their franchised. through this study, they will have a clear overview of the locations in Toronto and can confidently target their specific clients, which will give them competitive advantage and a head start in the gym business."
        },
        {
            "cell_type": "markdown",
            "metadata": {},
            "source": "## 2. Data Acquisition and Wrangling"
        },
        {
            "cell_type": "markdown",
            "metadata": {},
            "source": "### 2.1 Data Sources"
        },
        {
            "cell_type": "markdown",
            "metadata": {},
            "source": "We mainly focus on 4 data sources in this instance.\n1. <a href='https://en.wikipedia.org/w/index.php?title=List_of_postal_codes_of_Canada:_M&oldid=945633050'>Wikipedia</a>: We will extract the postal code, burough and neighborhoods in Toronto.\n2. <a href='https://cocl.us/Geospatial_data'>Geospatial Data</a>: A geospatial data of Toronto that contains the Postal code along with latitude and longitude of neighborhoods in Toronto.\n3. Foursquare API: An API call to get the locations and information of venues in toronto. (Foursquare API requires a developer account in order to log in) \n4. <a href='http://map.toronto.ca/wellbeing/#eyJ0b3Itd2lkZ2V0LWNsYXNzYnJlYWsiOsSAcGVyY2VudE9wYWNpdHnElzcwfSwiY3VzxIJtYcSTYcSXxIBuZWlnaGJvdXJob29kc8S2fcSrxIHEg8SFxIfEicSLdGFixYXEmCLEo3RpdmVUxZBJZMSXxYnEhMWPYi1pbmRpY2HEgnLFhcWIYWdzTWFwxLYiesWCbcSXMTPErHjEly04ODM3NzQ2LjDEqTc4MDnErMSnOjU0MTI5MzkuOTIyxorGmsWIxaTFpsWoxarFksSAxZjFq2lvbsSXMsSsc8WkZ2xlxYbErMWWbWVzxJtpxrbGssStxL%2FEk8SfScWlxafFqcSDTcWDxrE6IsatbsavxrHFhw%3D%3D'>Toronto Census data</a>: List of total population, household income and other info in the neighborhoods in toronto. "
        },
        {
            "cell_type": "markdown",
            "metadata": {},
            "source": "### 2.2 Data Cleaning"
        },
        {
            "cell_type": "markdown",
            "metadata": {},
            "source": "The above data will be combined together into a single table using pandas libriry and will further apply standard scaling operation to further help with our model that will be used in this study.\nThe Data Cleaning and Wrangling procedures will be followed as below:\n1. Pulling data from data sources.\n2. Drop row and column based on data quality\n3. Mapping all data into one table\n4. Prepare data by selecting and applying standard scaling to the features that will be used in the K-mean clustering model"
        },
        {
            "cell_type": "markdown",
            "metadata": {},
            "source": "#### install important packages"
        },
        {
            "cell_type": "code",
            "execution_count": 1,
            "metadata": {},
            "outputs": [],
            "source": "#Uncomment below if packages haven't installed\n#!pip install beautifulsoup4\n#!pip install requests\n#!pip install geocoder\n#!pip install folium"
        },
        {
            "cell_type": "markdown",
            "metadata": {},
            "source": "### *Note: If the maps in folium library don't render properly, please copy the notebook link or file and view it in https://nbviewer.jupyter.org/*"
        },
        {
            "cell_type": "markdown",
            "metadata": {},
            "source": "#### Import neccessary libraries"
        },
        {
            "cell_type": "code",
            "execution_count": 3,
            "metadata": {},
            "outputs": [],
            "source": "from bs4 import BeautifulSoup # library for Web scraping\nimport requests # library for GET request\nimport pandas as pd # library for data analsysis\nimport folium # map rendering library\nfrom pandas.io.json import json_normalize # tranform JSON file into a pandas dataframe\nimport numpy as np # library to handle data in a vectorized manner\n\n# Matplotlib and associated plotting modules\nimport matplotlib.cm as cm\nimport matplotlib.colors as colors\n\n# import k-means from clustering stage\nfrom sklearn.cluster import KMeans"
        },
        {
            "cell_type": "markdown",
            "metadata": {},
            "source": "#### Extract Toronto neighborhoods along with Postal Code from Wikipedia"
        },
        {
            "cell_type": "code",
            "execution_count": 4,
            "metadata": {},
            "outputs": [
                {
                    "data": {
                        "text/html": "<div>\n<style scoped>\n    .dataframe tbody tr th:only-of-type {\n        vertical-align: middle;\n    }\n\n    .dataframe tbody tr th {\n        vertical-align: top;\n    }\n\n    .dataframe thead th {\n        text-align: right;\n    }\n</style>\n<table border=\"1\" class=\"dataframe\">\n  <thead>\n    <tr style=\"text-align: right;\">\n      <th></th>\n      <th>PostalCode</th>\n      <th>Borough</th>\n      <th>Neighborhood</th>\n    </tr>\n  </thead>\n  <tbody>\n    <tr>\n      <th>2</th>\n      <td>M3A</td>\n      <td>North York</td>\n      <td>Parkwoods</td>\n    </tr>\n    <tr>\n      <th>3</th>\n      <td>M4A</td>\n      <td>North York</td>\n      <td>Victoria Village</td>\n    </tr>\n    <tr>\n      <th>4</th>\n      <td>M5A</td>\n      <td>Downtown Toronto</td>\n      <td>Harbourfront</td>\n    </tr>\n    <tr>\n      <th>5</th>\n      <td>M6A</td>\n      <td>North York</td>\n      <td>Lawrence Heights</td>\n    </tr>\n    <tr>\n      <th>6</th>\n      <td>M6A</td>\n      <td>North York</td>\n      <td>Lawrence Manor</td>\n    </tr>\n  </tbody>\n</table>\n</div>",
                        "text/plain": "  PostalCode           Borough      Neighborhood\n2        M3A        North York         Parkwoods\n3        M4A        North York  Victoria Village\n4        M5A  Downtown Toronto      Harbourfront\n5        M6A        North York  Lawrence Heights\n6        M6A        North York    Lawrence Manor"
                    },
                    "execution_count": 4,
                    "metadata": {},
                    "output_type": "execute_result"
                }
            ],
            "source": "url = \"https://en.wikipedia.org/w/index.php?title=List_of_postal_codes_of_Canada:_M&oldid=945633050\"\nhtml_doc = requests.get(url).text\nsoup = BeautifulSoup(html_doc, 'html.parser')\n\ntable_contents=[]\ntable=soup.find('table')\n\nfor row in table.findAll('tr'):\n    cell = {}\n    arr = []    \n    for td in row.findAll('td'):\n        arr.append(td.text.replace('\\n', ''))\n    \n    if len(arr) == 3:\n        cell['PostalCode'] = arr[0]\n        cell['Borough'] = arr[1]\n        cell['Neighborhood'] = arr[2]\n        table_contents.append(cell)\n\ndf = pd.DataFrame(table_contents)\ndf['Borough']=df['Borough'].replace({'Stn A PO Boxes 25 The Esplanade':'Downtown Toronto Stn A',\n                                             'Business Reply Mail Processing Centre 969 Eastern':'East Toronto Business'})\n\ndf = df[~((df.Borough == 'Not assigned') & (df.Neighborhood == 'Not assigned'))]\ndf.head()"
        },
        {
            "cell_type": "markdown",
            "metadata": {},
            "source": "#### Download Geospatial data that contains latitude and longitude of neighborhoods in Toronto"
        },
        {
            "cell_type": "code",
            "execution_count": 7,
            "metadata": {},
            "outputs": [
                {
                    "data": {
                        "text/html": "<div>\n<style scoped>\n    .dataframe tbody tr th:only-of-type {\n        vertical-align: middle;\n    }\n\n    .dataframe tbody tr th {\n        vertical-align: top;\n    }\n\n    .dataframe thead th {\n        text-align: right;\n    }\n</style>\n<table border=\"1\" class=\"dataframe\">\n  <thead>\n    <tr style=\"text-align: right;\">\n      <th></th>\n      <th>Postal Code</th>\n      <th>Latitude</th>\n      <th>Longitude</th>\n    </tr>\n  </thead>\n  <tbody>\n    <tr>\n      <th>0</th>\n      <td>M1B</td>\n      <td>43.806686</td>\n      <td>-79.194353</td>\n    </tr>\n    <tr>\n      <th>1</th>\n      <td>M1C</td>\n      <td>43.784535</td>\n      <td>-79.160497</td>\n    </tr>\n    <tr>\n      <th>2</th>\n      <td>M1E</td>\n      <td>43.763573</td>\n      <td>-79.188711</td>\n    </tr>\n    <tr>\n      <th>3</th>\n      <td>M1G</td>\n      <td>43.770992</td>\n      <td>-79.216917</td>\n    </tr>\n    <tr>\n      <th>4</th>\n      <td>M1H</td>\n      <td>43.773136</td>\n      <td>-79.239476</td>\n    </tr>\n  </tbody>\n</table>\n</div>",
                        "text/plain": "  Postal Code   Latitude  Longitude\n0         M1B  43.806686 -79.194353\n1         M1C  43.784535 -79.160497\n2         M1E  43.763573 -79.188711\n3         M1G  43.770992 -79.216917\n4         M1H  43.773136 -79.239476"
                    },
                    "execution_count": 7,
                    "metadata": {},
                    "output_type": "execute_result"
                }
            ],
            "source": "!wget -q -O 'geospatial.csv' https://cocl.us/Geospatial_data\nsp_df = pd.read_csv('geospatial.csv')\nsp_df.head()"
        },
        {
            "cell_type": "markdown",
            "metadata": {},
            "source": "#### Merge Toronto neighborhood with Geospatial data"
        },
        {
            "cell_type": "code",
            "execution_count": 8,
            "metadata": {},
            "outputs": [
                {
                    "data": {
                        "text/html": "<div>\n<style scoped>\n    .dataframe tbody tr th:only-of-type {\n        vertical-align: middle;\n    }\n\n    .dataframe tbody tr th {\n        vertical-align: top;\n    }\n\n    .dataframe thead th {\n        text-align: right;\n    }\n</style>\n<table border=\"1\" class=\"dataframe\">\n  <thead>\n    <tr style=\"text-align: right;\">\n      <th></th>\n      <th>PostalCode</th>\n      <th>Borough</th>\n      <th>Neighborhood</th>\n      <th>Latitude</th>\n      <th>Longitude</th>\n    </tr>\n  </thead>\n  <tbody>\n    <tr>\n      <th>2</th>\n      <td>M3A</td>\n      <td>North York</td>\n      <td>Parkwoods</td>\n      <td>43.753259</td>\n      <td>-79.329656</td>\n    </tr>\n    <tr>\n      <th>3</th>\n      <td>M4A</td>\n      <td>North York</td>\n      <td>Victoria Village</td>\n      <td>43.725882</td>\n      <td>-79.315572</td>\n    </tr>\n    <tr>\n      <th>4</th>\n      <td>M5A</td>\n      <td>Downtown Toronto</td>\n      <td>Harbourfront</td>\n      <td>43.654260</td>\n      <td>-79.360636</td>\n    </tr>\n    <tr>\n      <th>5</th>\n      <td>M6A</td>\n      <td>North York</td>\n      <td>Lawrence Heights</td>\n      <td>43.718518</td>\n      <td>-79.464763</td>\n    </tr>\n    <tr>\n      <th>6</th>\n      <td>M6A</td>\n      <td>North York</td>\n      <td>Lawrence Manor</td>\n      <td>43.718518</td>\n      <td>-79.464763</td>\n    </tr>\n  </tbody>\n</table>\n</div>",
                        "text/plain": "  PostalCode           Borough      Neighborhood   Latitude  Longitude\n2        M3A        North York         Parkwoods  43.753259 -79.329656\n3        M4A        North York  Victoria Village  43.725882 -79.315572\n4        M5A  Downtown Toronto      Harbourfront  43.654260 -79.360636\n5        M6A        North York  Lawrence Heights  43.718518 -79.464763\n6        M6A        North York    Lawrence Manor  43.718518 -79.464763"
                    },
                    "execution_count": 8,
                    "metadata": {},
                    "output_type": "execute_result"
                }
            ],
            "source": "df_neighborhood = df.join(sp_df.set_index('Postal Code'), on='PostalCode')\ndf_neighborhood.head()"
        },
        {
            "cell_type": "markdown",
            "metadata": {},
            "source": "#### Read Toronto cesus data file within the project"
        },
        {
            "cell_type": "code",
            "execution_count": 9,
            "metadata": {},
            "outputs": [
                {
                    "data": {
                        "text/html": "<div>\n<style scoped>\n    .dataframe tbody tr th:only-of-type {\n        vertical-align: middle;\n    }\n\n    .dataframe tbody tr th {\n        vertical-align: top;\n    }\n\n    .dataframe thead th {\n        text-align: right;\n    }\n</style>\n<table border=\"1\" class=\"dataframe\">\n  <thead>\n    <tr style=\"text-align: right;\">\n      <th></th>\n      <th>Neighbourhood</th>\n      <th>Neighbourhood Id</th>\n      <th>Combined Indicators</th>\n      <th>Total Population</th>\n      <th>Average Family Income</th>\n      <th>After-Tax Household Income</th>\n      <th>Pop 15 - 64 years</th>\n    </tr>\n  </thead>\n  <tbody>\n    <tr>\n      <th>0</th>\n      <td>West Humber-Clairville</td>\n      <td>1.0</td>\n      <td>NaN</td>\n      <td>33312.0</td>\n      <td>72820.0</td>\n      <td>59703.0</td>\n      <td>23285.0</td>\n    </tr>\n    <tr>\n      <th>1</th>\n      <td>Mount Olive-Silverstone-Jamestown</td>\n      <td>2.0</td>\n      <td>NaN</td>\n      <td>32954.0</td>\n      <td>57411.0</td>\n      <td>46986.0</td>\n      <td>22300.0</td>\n    </tr>\n    <tr>\n      <th>2</th>\n      <td>Thistletown-Beaumond Heights</td>\n      <td>3.0</td>\n      <td>NaN</td>\n      <td>10360.0</td>\n      <td>70838.0</td>\n      <td>57522.0</td>\n      <td>6760.0</td>\n    </tr>\n    <tr>\n      <th>3</th>\n      <td>Rexdale-Kipling</td>\n      <td>4.0</td>\n      <td>NaN</td>\n      <td>10529.0</td>\n      <td>69367.0</td>\n      <td>51194.0</td>\n      <td>7165.0</td>\n    </tr>\n    <tr>\n      <th>4</th>\n      <td>Elms-Old Rexdale</td>\n      <td>5.0</td>\n      <td>NaN</td>\n      <td>9456.0</td>\n      <td>61196.0</td>\n      <td>49425.0</td>\n      <td>6370.0</td>\n    </tr>\n  </tbody>\n</table>\n</div>",
                        "text/plain": "                       Neighbourhood  Neighbourhood Id  Combined Indicators  \\\n0             West Humber-Clairville               1.0                  NaN   \n1  Mount Olive-Silverstone-Jamestown               2.0                  NaN   \n2       Thistletown-Beaumond Heights               3.0                  NaN   \n3                    Rexdale-Kipling               4.0                  NaN   \n4                   Elms-Old Rexdale               5.0                  NaN   \n\n   Total Population  Average Family Income  After-Tax Household Income  \\\n0           33312.0                72820.0                     59703.0   \n1           32954.0                57411.0                     46986.0   \n2           10360.0                70838.0                     57522.0   \n3           10529.0                69367.0                     51194.0   \n4            9456.0                61196.0                     49425.0   \n\n   Pop 15 - 64 years  \n0            23285.0  \n1            22300.0  \n2             6760.0  \n3             7165.0  \n4             6370.0  "
                    },
                    "execution_count": 9,
                    "metadata": {},
                    "output_type": "execute_result"
                }
            ],
            "source": "# The code was removed by Watson Studio for sharing."
        },
        {
            "cell_type": "markdown",
            "metadata": {},
            "source": "#### Merge all relevant tables into single table"
        },
        {
            "cell_type": "markdown",
            "metadata": {},
            "source": "<dl>\n    <dt>Note:</dt>\n    <dd>* <i>Drop NaN row in Total Population column</i></dd> \n    <dd>* <i>We join table together using neighborhood name as primary key, because of census data doesn't have postal code</i></dd>\n</dl>"
        },
        {
            "cell_type": "code",
            "execution_count": 10,
            "metadata": {},
            "outputs": [
                {
                    "data": {
                        "text/html": "<div>\n<style scoped>\n    .dataframe tbody tr th:only-of-type {\n        vertical-align: middle;\n    }\n\n    .dataframe tbody tr th {\n        vertical-align: top;\n    }\n\n    .dataframe thead th {\n        text-align: right;\n    }\n</style>\n<table border=\"1\" class=\"dataframe\">\n  <thead>\n    <tr style=\"text-align: right;\">\n      <th></th>\n      <th>PostalCode</th>\n      <th>Borough</th>\n      <th>Neighborhood</th>\n      <th>Latitude</th>\n      <th>Longitude</th>\n      <th>Total Population</th>\n      <th>Average Family Income</th>\n    </tr>\n  </thead>\n  <tbody>\n    <tr>\n      <th>3</th>\n      <td>M4A</td>\n      <td>North York</td>\n      <td>Victoria Village</td>\n      <td>43.725882</td>\n      <td>-79.315572</td>\n      <td>17510.0</td>\n      <td>65104.0</td>\n    </tr>\n    <tr>\n      <th>10</th>\n      <td>M1B</td>\n      <td>Scarborough</td>\n      <td>Rouge</td>\n      <td>43.806686</td>\n      <td>-79.194353</td>\n      <td>46496.0</td>\n      <td>86997.0</td>\n    </tr>\n    <tr>\n      <th>11</th>\n      <td>M1B</td>\n      <td>Scarborough</td>\n      <td>Malvern</td>\n      <td>43.806686</td>\n      <td>-79.194353</td>\n      <td>43794.0</td>\n      <td>64497.0</td>\n    </tr>\n    <tr>\n      <th>26</th>\n      <td>M1C</td>\n      <td>Scarborough</td>\n      <td>Highland Creek</td>\n      <td>43.784535</td>\n      <td>-79.160497</td>\n      <td>12494.0</td>\n      <td>98857.0</td>\n    </tr>\n    <tr>\n      <th>30</th>\n      <td>M3C</td>\n      <td>North York</td>\n      <td>Flemingdon Park</td>\n      <td>43.725900</td>\n      <td>-79.340923</td>\n      <td>21933.0</td>\n      <td>55824.0</td>\n    </tr>\n  </tbody>\n</table>\n</div>",
                        "text/plain": "   PostalCode      Borough      Neighborhood   Latitude  Longitude  \\\n3         M4A   North York  Victoria Village  43.725882 -79.315572   \n10        M1B  Scarborough             Rouge  43.806686 -79.194353   \n11        M1B  Scarborough           Malvern  43.806686 -79.194353   \n26        M1C  Scarborough    Highland Creek  43.784535 -79.160497   \n30        M3C   North York   Flemingdon Park  43.725900 -79.340923   \n\n    Total Population  Average Family Income  \n3            17510.0                65104.0  \n10           46496.0                86997.0  \n11           43794.0                64497.0  \n26           12494.0                98857.0  \n30           21933.0                55824.0  "
                    },
                    "execution_count": 10,
                    "metadata": {},
                    "output_type": "execute_result"
                }
            ],
            "source": "df_merge = df_neighborhood.join(df_data_1[['Neighbourhood', 'Total Population', 'Average Family Income']].set_index('Neighbourhood'), on='Neighborhood')\ndf_merge = df_merge[~df_merge['Total Population'].isnull()]\ndf_merge.head()"
        },
        {
            "cell_type": "markdown",
            "metadata": {},
            "source": "#### Now that we have the required toronto information, Let's see how many gyms are in each neighborhoods using Foursquare API"
        },
        {
            "cell_type": "markdown",
            "metadata": {},
            "source": "#### Define Foursquare Credentials and Version\n"
        },
        {
            "cell_type": "code",
            "execution_count": 11,
            "metadata": {},
            "outputs": [],
            "source": "# The code was removed by Watson Studio for sharing."
        },
        {
            "cell_type": "markdown",
            "metadata": {},
            "source": "#### Define getAllVenues to loop through all neighborhoods and find gym venues within 2500m radius"
        },
        {
            "cell_type": "code",
            "execution_count": 12,
            "metadata": {},
            "outputs": [],
            "source": "def getAllVenues(names, latitudes, longitudes):\n    \n    venues_list=[]\n    query = 'gym'\n    radius = 2500\n    for name, lat, lng in zip(names, latitudes, longitudes):\n#        print(\"Searching for: \", name)    \n        # create the API request URL\n        url = 'https://api.foursquare.com/v2/venues/search?&client_id={}&client_secret={}&v={}&ll={},{}&query={}&radius={}'.format(\n        CLIENT_ID, \n        CLIENT_SECRET, \n        VERSION, \n        lat, \n        lng,\n        query,\n        radius\n        )\n            \n        # make the GET request\n        results = requests.get(url).json()[\"response\"]['venues']\n#        print(json_normalize(results))\n        # return only relevant information for each nearby venue\n        for v in results:\n            \n            try:\n                vname = v['name']\n                vlat = v['location']['lat']\n                vlng = v['location']['lng']\n                vcat = v['categories'][0]['name']\n    \n            except IndexError:\n                vname = ''\n                vlat = 0\n                vlng = 0\n                vcat = ''\n                \n#            print(name, lat, lng, vname, vlat, vlng, vcat)            \n            venues_list.append([(name, lat, lng, vname, vlat, vlng, vcat)])\n\n            \n    nearby_venues = pd.DataFrame([item for venue_list in venues_list for item in venue_list])\n    nearby_venues.columns = ['Neighborhood', \n                  'Neighborhood Latitude', \n                  'Neighborhood Longitude', \n                  'Venue', \n                 'Venue Latitude', \n                  'Venue Longitude', \n                  'Venue Category']\n    \n    return(nearby_venues)"
        },
        {
            "cell_type": "markdown",
            "metadata": {},
            "source": "#### We store all venues from Foursquare API in toronto_venues DataFrame"
        },
        {
            "cell_type": "code",
            "execution_count": 13,
            "metadata": {},
            "outputs": [
                {
                    "data": {
                        "text/html": "<div>\n<style scoped>\n    .dataframe tbody tr th:only-of-type {\n        vertical-align: middle;\n    }\n\n    .dataframe tbody tr th {\n        vertical-align: top;\n    }\n\n    .dataframe thead th {\n        text-align: right;\n    }\n</style>\n<table border=\"1\" class=\"dataframe\">\n  <thead>\n    <tr style=\"text-align: right;\">\n      <th></th>\n      <th>Neighborhood</th>\n      <th>Neighborhood Latitude</th>\n      <th>Neighborhood Longitude</th>\n      <th>Venue</th>\n      <th>Venue Latitude</th>\n      <th>Venue Longitude</th>\n      <th>Venue Category</th>\n    </tr>\n  </thead>\n  <tbody>\n    <tr>\n      <th>0</th>\n      <td>Victoria Village</td>\n      <td>43.725882</td>\n      <td>-79.315572</td>\n      <td>Gym</td>\n      <td>43.725821</td>\n      <td>-79.309808</td>\n      <td>Residential Building (Apartment / Condo)</td>\n    </tr>\n    <tr>\n      <th>1</th>\n      <td>Victoria Village</td>\n      <td>43.725882</td>\n      <td>-79.315572</td>\n      <td>Clancy's Boxing Gym</td>\n      <td>43.718510</td>\n      <td>-79.308707</td>\n      <td>Gym / Fitness Center</td>\n    </tr>\n    <tr>\n      <th>2</th>\n      <td>Victoria Village</td>\n      <td>43.725882</td>\n      <td>-79.315572</td>\n      <td>Tridel Accolade Gym</td>\n      <td>43.724403</td>\n      <td>-79.327789</td>\n      <td>Gym / Fitness Center</td>\n    </tr>\n    <tr>\n      <th>3</th>\n      <td>Victoria Village</td>\n      <td>43.725882</td>\n      <td>-79.315572</td>\n      <td>Gym 9</td>\n      <td>43.715557</td>\n      <td>-79.303993</td>\n      <td>Athletics &amp; Sports</td>\n    </tr>\n    <tr>\n      <th>4</th>\n      <td>Victoria Village</td>\n      <td>43.725882</td>\n      <td>-79.315572</td>\n      <td>Bell Wynford Gym</td>\n      <td>43.726643</td>\n      <td>-79.331440</td>\n      <td>Athletics &amp; Sports</td>\n    </tr>\n  </tbody>\n</table>\n</div>",
                        "text/plain": "       Neighborhood  Neighborhood Latitude  Neighborhood Longitude  \\\n0  Victoria Village              43.725882              -79.315572   \n1  Victoria Village              43.725882              -79.315572   \n2  Victoria Village              43.725882              -79.315572   \n3  Victoria Village              43.725882              -79.315572   \n4  Victoria Village              43.725882              -79.315572   \n\n                 Venue  Venue Latitude  Venue Longitude  \\\n0                  Gym       43.725821       -79.309808   \n1  Clancy's Boxing Gym       43.718510       -79.308707   \n2  Tridel Accolade Gym       43.724403       -79.327789   \n3                Gym 9       43.715557       -79.303993   \n4     Bell Wynford Gym       43.726643       -79.331440   \n\n                             Venue Category  \n0  Residential Building (Apartment / Condo)  \n1                      Gym / Fitness Center  \n2                      Gym / Fitness Center  \n3                        Athletics & Sports  \n4                        Athletics & Sports  "
                    },
                    "execution_count": 13,
                    "metadata": {},
                    "output_type": "execute_result"
                }
            ],
            "source": "toronto_venues = getAllVenues(names=df_merge['Neighborhood'],\n                                   latitudes=df_merge['Latitude'],\n                                   longitudes=df_merge['Longitude']\n                                  )\ntoronto_venues.head()"
        },
        {
            "cell_type": "markdown",
            "metadata": {},
            "source": "#### Let's have a basic info of venues data"
        },
        {
            "cell_type": "code",
            "execution_count": 14,
            "metadata": {},
            "outputs": [
                {
                    "data": {
                        "text/html": "<div>\n<style scoped>\n    .dataframe tbody tr th:only-of-type {\n        vertical-align: middle;\n    }\n\n    .dataframe tbody tr th {\n        vertical-align: top;\n    }\n\n    .dataframe thead th {\n        text-align: right;\n    }\n</style>\n<table border=\"1\" class=\"dataframe\">\n  <thead>\n    <tr style=\"text-align: right;\">\n      <th></th>\n      <th>Neighborhood</th>\n      <th>Neighborhood Latitude</th>\n      <th>Neighborhood Longitude</th>\n      <th>Venue</th>\n      <th>Venue Latitude</th>\n      <th>Venue Longitude</th>\n      <th>Venue Category</th>\n    </tr>\n  </thead>\n  <tbody>\n    <tr>\n      <th>count</th>\n      <td>419</td>\n      <td>419.000000</td>\n      <td>419.000000</td>\n      <td>419</td>\n      <td>419.000000</td>\n      <td>419.000000</td>\n      <td>419</td>\n    </tr>\n    <tr>\n      <th>unique</th>\n      <td>34</td>\n      <td>NaN</td>\n      <td>NaN</td>\n      <td>218</td>\n      <td>NaN</td>\n      <td>NaN</td>\n      <td>26</td>\n    </tr>\n    <tr>\n      <th>top</th>\n      <td>Little Portugal</td>\n      <td>NaN</td>\n      <td>NaN</td>\n      <td></td>\n      <td>NaN</td>\n      <td>NaN</td>\n      <td>Gym</td>\n    </tr>\n    <tr>\n      <th>freq</th>\n      <td>30</td>\n      <td>NaN</td>\n      <td>NaN</td>\n      <td>20</td>\n      <td>NaN</td>\n      <td>NaN</td>\n      <td>195</td>\n    </tr>\n    <tr>\n      <th>mean</th>\n      <td>NaN</td>\n      <td>43.713467</td>\n      <td>-79.382305</td>\n      <td>NaN</td>\n      <td>41.627738</td>\n      <td>-75.588953</td>\n      <td>NaN</td>\n    </tr>\n    <tr>\n      <th>std</th>\n      <td>NaN</td>\n      <td>0.056246</td>\n      <td>0.095099</td>\n      <td>NaN</td>\n      <td>9.331211</td>\n      <td>16.943845</td>\n      <td>NaN</td>\n    </tr>\n    <tr>\n      <th>min</th>\n      <td>NaN</td>\n      <td>43.602414</td>\n      <td>-79.577201</td>\n      <td>NaN</td>\n      <td>0.000000</td>\n      <td>-79.599456</td>\n      <td>NaN</td>\n    </tr>\n    <tr>\n      <th>25%</th>\n      <td>NaN</td>\n      <td>43.676357</td>\n      <td>-79.442259</td>\n      <td>NaN</td>\n      <td>43.657278</td>\n      <td>-79.424579</td>\n      <td>NaN</td>\n    </tr>\n    <tr>\n      <th>50%</th>\n      <td>NaN</td>\n      <td>43.711112</td>\n      <td>-79.411307</td>\n      <td>NaN</td>\n      <td>43.714512</td>\n      <td>-79.392559</td>\n      <td>NaN</td>\n    </tr>\n    <tr>\n      <th>75%</th>\n      <td>NaN</td>\n      <td>43.763573</td>\n      <td>-79.328247</td>\n      <td>NaN</td>\n      <td>43.765892</td>\n      <td>-79.311214</td>\n      <td>NaN</td>\n    </tr>\n    <tr>\n      <th>max</th>\n      <td>NaN</td>\n      <td>43.815252</td>\n      <td>-79.160497</td>\n      <td>NaN</td>\n      <td>43.828122</td>\n      <td>0.000000</td>\n      <td>NaN</td>\n    </tr>\n  </tbody>\n</table>\n</div>",
                        "text/plain": "           Neighborhood  Neighborhood Latitude  Neighborhood Longitude Venue  \\\ncount               419             419.000000              419.000000   419   \nunique               34                    NaN                     NaN   218   \ntop     Little Portugal                    NaN                     NaN         \nfreq                 30                    NaN                     NaN    20   \nmean                NaN              43.713467              -79.382305   NaN   \nstd                 NaN               0.056246                0.095099   NaN   \nmin                 NaN              43.602414              -79.577201   NaN   \n25%                 NaN              43.676357              -79.442259   NaN   \n50%                 NaN              43.711112              -79.411307   NaN   \n75%                 NaN              43.763573              -79.328247   NaN   \nmax                 NaN              43.815252              -79.160497   NaN   \n\n        Venue Latitude  Venue Longitude Venue Category  \ncount       419.000000       419.000000            419  \nunique             NaN              NaN             26  \ntop                NaN              NaN            Gym  \nfreq               NaN              NaN            195  \nmean         41.627738       -75.588953            NaN  \nstd           9.331211        16.943845            NaN  \nmin           0.000000       -79.599456            NaN  \n25%          43.657278       -79.424579            NaN  \n50%          43.714512       -79.392559            NaN  \n75%          43.765892       -79.311214            NaN  \nmax          43.828122         0.000000            NaN  "
                    },
                    "execution_count": 14,
                    "metadata": {},
                    "output_type": "execute_result"
                }
            ],
            "source": "toronto_venues.describe(include='all')"
        },
        {
            "cell_type": "markdown",
            "metadata": {},
            "source": "#### We group and count all venues from our search in Foursquare API"
        },
        {
            "cell_type": "code",
            "execution_count": 16,
            "metadata": {},
            "outputs": [
                {
                    "name": "stdout",
                    "output_type": "stream",
                    "text": "The group table has 27 columns and 34 rows.\n"
                },
                {
                    "data": {
                        "text/html": "<div>\n<style scoped>\n    .dataframe tbody tr th:only-of-type {\n        vertical-align: middle;\n    }\n\n    .dataframe tbody tr th {\n        vertical-align: top;\n    }\n\n    .dataframe thead th {\n        text-align: right;\n    }\n</style>\n<table border=\"1\" class=\"dataframe\">\n  <thead>\n    <tr style=\"text-align: right;\">\n      <th></th>\n      <th>Neighborhoods</th>\n      <th></th>\n      <th>Athletics &amp; Sports</th>\n      <th>Basketball Court</th>\n      <th>Boxing Gym</th>\n      <th>Building</th>\n      <th>College Gym</th>\n      <th>Dance Studio</th>\n      <th>General Entertainment</th>\n      <th>Gym</th>\n      <th>...</th>\n      <th>Park</th>\n      <th>Playground</th>\n      <th>Pool</th>\n      <th>Residential Building (Apartment / Condo)</th>\n      <th>School</th>\n      <th>Spa</th>\n      <th>Sports Bar</th>\n      <th>Sports Club</th>\n      <th>Student Center</th>\n      <th>Yoga Studio</th>\n    </tr>\n  </thead>\n  <tbody>\n    <tr>\n      <th>0</th>\n      <td>Agincourt North</td>\n      <td>0</td>\n      <td>0</td>\n      <td>0</td>\n      <td>0</td>\n      <td>0</td>\n      <td>0</td>\n      <td>0</td>\n      <td>0</td>\n      <td>1</td>\n      <td>...</td>\n      <td>1</td>\n      <td>0</td>\n      <td>0</td>\n      <td>0</td>\n      <td>0</td>\n      <td>0</td>\n      <td>0</td>\n      <td>0</td>\n      <td>0</td>\n      <td>0</td>\n    </tr>\n    <tr>\n      <th>1</th>\n      <td>Alderwood</td>\n      <td>0</td>\n      <td>1</td>\n      <td>0</td>\n      <td>0</td>\n      <td>0</td>\n      <td>2</td>\n      <td>0</td>\n      <td>0</td>\n      <td>4</td>\n      <td>...</td>\n      <td>0</td>\n      <td>0</td>\n      <td>0</td>\n      <td>0</td>\n      <td>0</td>\n      <td>1</td>\n      <td>0</td>\n      <td>0</td>\n      <td>0</td>\n      <td>0</td>\n    </tr>\n    <tr>\n      <th>2</th>\n      <td>Bathurst Manor</td>\n      <td>1</td>\n      <td>0</td>\n      <td>0</td>\n      <td>0</td>\n      <td>0</td>\n      <td>1</td>\n      <td>0</td>\n      <td>0</td>\n      <td>13</td>\n      <td>...</td>\n      <td>0</td>\n      <td>0</td>\n      <td>0</td>\n      <td>5</td>\n      <td>0</td>\n      <td>0</td>\n      <td>0</td>\n      <td>1</td>\n      <td>0</td>\n      <td>0</td>\n    </tr>\n    <tr>\n      <th>3</th>\n      <td>Bayview Village</td>\n      <td>1</td>\n      <td>0</td>\n      <td>0</td>\n      <td>0</td>\n      <td>1</td>\n      <td>1</td>\n      <td>0</td>\n      <td>0</td>\n      <td>10</td>\n      <td>...</td>\n      <td>1</td>\n      <td>0</td>\n      <td>0</td>\n      <td>1</td>\n      <td>0</td>\n      <td>0</td>\n      <td>0</td>\n      <td>0</td>\n      <td>0</td>\n      <td>0</td>\n    </tr>\n    <tr>\n      <th>4</th>\n      <td>Cliffcrest</td>\n      <td>0</td>\n      <td>0</td>\n      <td>0</td>\n      <td>0</td>\n      <td>0</td>\n      <td>0</td>\n      <td>0</td>\n      <td>0</td>\n      <td>0</td>\n      <td>...</td>\n      <td>0</td>\n      <td>0</td>\n      <td>0</td>\n      <td>1</td>\n      <td>0</td>\n      <td>0</td>\n      <td>0</td>\n      <td>0</td>\n      <td>0</td>\n      <td>0</td>\n    </tr>\n  </tbody>\n</table>\n<p>5 rows \u00d7 27 columns</p>\n</div>",
                        "text/plain": "     Neighborhoods     Athletics & Sports  Basketball Court  Boxing Gym  \\\n0  Agincourt North  0                   0                 0           0   \n1        Alderwood  0                   1                 0           0   \n2   Bathurst Manor  1                   0                 0           0   \n3  Bayview Village  1                   0                 0           0   \n4       Cliffcrest  0                   0                 0           0   \n\n   Building  College Gym  Dance Studio  General Entertainment  Gym  ...  Park  \\\n0         0            0             0                      0    1  ...     1   \n1         0            2             0                      0    4  ...     0   \n2         0            1             0                      0   13  ...     0   \n3         1            1             0                      0   10  ...     1   \n4         0            0             0                      0    0  ...     0   \n\n   Playground  Pool  Residential Building (Apartment / Condo)  School  Spa  \\\n0           0     0                                         0       0    0   \n1           0     0                                         0       0    1   \n2           0     0                                         5       0    0   \n3           0     0                                         1       0    0   \n4           0     0                                         1       0    0   \n\n   Sports Bar  Sports Club  Student Center  Yoga Studio  \n0           0            0               0            0  \n1           0            0               0            0  \n2           0            1               0            0  \n3           0            0               0            0  \n4           0            0               0            0  \n\n[5 rows x 27 columns]"
                    },
                    "execution_count": 16,
                    "metadata": {},
                    "output_type": "execute_result"
                }
            ],
            "source": "# one hot encoding\ntoronto_onehot = pd.get_dummies(toronto_venues[['Venue Category']], prefix=\"\", prefix_sep=\"\")\n\n# add neighborhoods column back to dataframe !(instead of neighborhood as Venues category also has the name neighborhood)!\ntoronto_onehot['Neighborhoods'] = toronto_venues['Neighborhood'] \n\n# move neighborhood column to the first column\nfixed_columns = [toronto_onehot.columns[-1]] + list(toronto_onehot.columns[:-1])\ntoronto_onehot = toronto_onehot[fixed_columns]\n\ntoronto_grouped = toronto_onehot.groupby('Neighborhoods').sum().reset_index()\nprint('The group table has {} columns and {} rows.'.format(toronto_grouped.shape[1], toronto_grouped.shape[0]))\ntoronto_grouped.head(5)"
        },
        {
            "cell_type": "markdown",
            "metadata": {},
            "source": "#### We combine gym related columns"
        },
        {
            "cell_type": "code",
            "execution_count": 17,
            "metadata": {},
            "outputs": [
                {
                    "data": {
                        "text/html": "<div>\n<style scoped>\n    .dataframe tbody tr th:only-of-type {\n        vertical-align: middle;\n    }\n\n    .dataframe tbody tr th {\n        vertical-align: top;\n    }\n\n    .dataframe thead th {\n        text-align: right;\n    }\n</style>\n<table border=\"1\" class=\"dataframe\">\n  <thead>\n    <tr style=\"text-align: right;\">\n      <th></th>\n      <th>Neighborhoods</th>\n      <th>No. of Gym Center</th>\n    </tr>\n  </thead>\n  <tbody>\n    <tr>\n      <th>0</th>\n      <td>Agincourt North</td>\n      <td>1</td>\n    </tr>\n    <tr>\n      <th>1</th>\n      <td>Alderwood</td>\n      <td>5</td>\n    </tr>\n    <tr>\n      <th>2</th>\n      <td>Bathurst Manor</td>\n      <td>20</td>\n    </tr>\n    <tr>\n      <th>3</th>\n      <td>Bayview Village</td>\n      <td>12</td>\n    </tr>\n    <tr>\n      <th>4</th>\n      <td>Cliffcrest</td>\n      <td>0</td>\n    </tr>\n  </tbody>\n</table>\n</div>",
                        "text/plain": "     Neighborhoods  No. of Gym Center\n0  Agincourt North                  1\n1        Alderwood                  5\n2   Bathurst Manor                 20\n3  Bayview Village                 12\n4       Cliffcrest                  0"
                    },
                    "execution_count": 17,
                    "metadata": {},
                    "output_type": "execute_result"
                }
            ],
            "source": "toronto_grouped['No. of Gym Center'] = toronto_grouped['Gym'] + toronto_grouped['Gym / Fitness Center']\ntoronto_gym = toronto_grouped[['Neighborhoods', 'No. of Gym Center']]\ntoronto_gym.head()"
        },
        {
            "cell_type": "markdown",
            "metadata": {},
            "source": "#### We successfully created  the final table for our study by mapping the number of Gyms table into the toronto data"
        },
        {
            "cell_type": "code",
            "execution_count": 18,
            "metadata": {},
            "outputs": [
                {
                    "data": {
                        "text/html": "<div>\n<style scoped>\n    .dataframe tbody tr th:only-of-type {\n        vertical-align: middle;\n    }\n\n    .dataframe tbody tr th {\n        vertical-align: top;\n    }\n\n    .dataframe thead th {\n        text-align: right;\n    }\n</style>\n<table border=\"1\" class=\"dataframe\">\n  <thead>\n    <tr style=\"text-align: right;\">\n      <th></th>\n      <th>PostalCode</th>\n      <th>Borough</th>\n      <th>Neighborhood</th>\n      <th>Latitude</th>\n      <th>Longitude</th>\n      <th>Total Population</th>\n      <th>Average Family Income</th>\n      <th>No. of Gym Center</th>\n    </tr>\n  </thead>\n  <tbody>\n    <tr>\n      <th>0</th>\n      <td>M4A</td>\n      <td>North York</td>\n      <td>Victoria Village</td>\n      <td>43.725882</td>\n      <td>-79.315572</td>\n      <td>17510.0</td>\n      <td>65104.0</td>\n      <td>12.0</td>\n    </tr>\n    <tr>\n      <th>1</th>\n      <td>M1B</td>\n      <td>Scarborough</td>\n      <td>Rouge</td>\n      <td>43.806686</td>\n      <td>-79.194353</td>\n      <td>46496.0</td>\n      <td>86997.0</td>\n      <td>2.0</td>\n    </tr>\n    <tr>\n      <th>2</th>\n      <td>M1B</td>\n      <td>Scarborough</td>\n      <td>Malvern</td>\n      <td>43.806686</td>\n      <td>-79.194353</td>\n      <td>43794.0</td>\n      <td>64497.0</td>\n      <td>2.0</td>\n    </tr>\n    <tr>\n      <th>3</th>\n      <td>M1C</td>\n      <td>Scarborough</td>\n      <td>Highland Creek</td>\n      <td>43.784535</td>\n      <td>-79.160497</td>\n      <td>12494.0</td>\n      <td>98857.0</td>\n      <td>3.0</td>\n    </tr>\n    <tr>\n      <th>4</th>\n      <td>M3C</td>\n      <td>North York</td>\n      <td>Flemingdon Park</td>\n      <td>43.725900</td>\n      <td>-79.340923</td>\n      <td>21933.0</td>\n      <td>55824.0</td>\n      <td>17.0</td>\n    </tr>\n  </tbody>\n</table>\n</div>",
                        "text/plain": "  PostalCode      Borough      Neighborhood   Latitude  Longitude  \\\n0        M4A   North York  Victoria Village  43.725882 -79.315572   \n1        M1B  Scarborough             Rouge  43.806686 -79.194353   \n2        M1B  Scarborough           Malvern  43.806686 -79.194353   \n3        M1C  Scarborough    Highland Creek  43.784535 -79.160497   \n4        M3C   North York   Flemingdon Park  43.725900 -79.340923   \n\n   Total Population  Average Family Income  No. of Gym Center  \n0           17510.0                65104.0               12.0  \n1           46496.0                86997.0                2.0  \n2           43794.0                64497.0                2.0  \n3           12494.0                98857.0                3.0  \n4           21933.0                55824.0               17.0  "
                    },
                    "execution_count": 18,
                    "metadata": {},
                    "output_type": "execute_result"
                }
            ],
            "source": "toronto_info = df_merge.join(toronto_gym.set_index('Neighborhoods'), on='Neighborhood').reset_index(drop=True)\ntoronto_info.dropna(subset = ['No. of Gym Center'], inplace=True)\ntoronto_info.reset_index(drop=True)\ntoronto_info.head()"
        }
    ],
    "metadata": {
        "kernelspec": {
            "display_name": "Python 3.7",
            "language": "python",
            "name": "python3"
        },
        "language_info": {
            "codemirror_mode": {
                "name": "ipython",
                "version": 3
            },
            "file_extension": ".py",
            "mimetype": "text/x-python",
            "name": "python",
            "nbconvert_exporter": "python",
            "pygments_lexer": "ipython3",
            "version": "3.7.10"
        }
    },
    "nbformat": 4,
    "nbformat_minor": 1
}